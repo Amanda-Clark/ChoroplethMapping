{
 "cells": [
  {
   "cell_type": "code",
   "execution_count": 5,
   "id": "imposed-notice",
   "metadata": {},
   "outputs": [],
   "source": [
    "import folium\n",
    "import pandas as pd\n",
    "import geojson\n",
    "import geopandas\n",
    "import branca\n",
    "import geojson\n",
    "from urllib.request import urlopen\n",
    "from folium.features import GeoJsonPopup, GeoJsonTooltip\n",
    "\n",
    "with open(\"countiesmap.geojson\") as f:\n",
    "    counties = geojson.load(f)\n",
    "\n",
    "state_vaccination = \"countydata.xls\"\n",
    "state_data = pd.read_excel(state_vaccination)\n",
    "state_data['Percent_Vaccinated'] = state_data['Percent_Vaccinated']*100 "
   ]
  },
  {
   "cell_type": "code",
   "execution_count": 6,
   "id": "responsible-october",
   "metadata": {},
   "outputs": [],
   "source": [
    "counties = geopandas.GeoDataFrame.from_features(counties, crs=\"EPSG:4326\")"
   ]
  },
  {
   "cell_type": "code",
   "execution_count": 7,
   "id": "wanted-immigration",
   "metadata": {},
   "outputs": [],
   "source": [
    "countiesmerge = counties.merge(state_data, how=\"left\", left_on =\"altname\", right_on=\"County\")"
   ]
  },
  {
   "cell_type": "code",
   "execution_count": null,
   "id": "coral-organic",
   "metadata": {},
   "outputs": [],
   "source": [
    "countiesmerge.head(3)"
   ]
  },
  {
   "cell_type": "code",
   "execution_count": null,
   "id": "binding-secretariat",
   "metadata": {},
   "outputs": [],
   "source": [
    "\n",
    "\n",
    "colormap = branca.colormap.LinearColormap(\n",
    "    vmin=countiesmerge[\"Percent_Vaccinated\"].quantile(0.0),\n",
    "    vmax=countiesmerge[\"Percent_Vaccinated\"].quantile(1),\n",
    "    colors=[\"red\", \"orange\", \"lightblue\", \"green\", \"darkgreen\"],\n",
    "    caption=\"County level vaccination rates\",\n",
    ")"
   ]
  },
  {
   "cell_type": "code",
   "execution_count": null,
   "id": "stock-logic",
   "metadata": {},
   "outputs": [],
   "source": [
    "m = folium.Map(location=[44.1, -121.3153], zoom_start=7)"
   ]
  },
  {
   "cell_type": "code",
   "execution_count": null,
   "id": "obvious-cradle",
   "metadata": {},
   "outputs": [],
   "source": [
    "popup = GeoJsonPopup(\n",
    "    fields=[\"instname\"],\n",
    "    \n",
    "    localize=True,\n",
    "    labels=True,\n",
    "    style=\"background-color: yellow;\",\n",
    ")\n"
   ]
  },
  {
   "cell_type": "code",
   "execution_count": null,
   "id": "negative-management",
   "metadata": {},
   "outputs": [],
   "source": [
    "tooltip = GeoJsonTooltip(\n",
    "    fields=[\"County\", \"Percent_Vaccinated\"],\n",
    "    \n",
    "    localize=True,\n",
    "    sticky=False,\n",
    "    labels=True,\n",
    "    style=\"\"\"\n",
    "        background-color: #F0EFEF;\n",
    "        border: 2px solid black;\n",
    "        border-radius: 3px;\n",
    "        box-shadow: 3px;\n",
    "    \"\"\",\n",
    "    max_width=800,\n",
    ")"
   ]
  },
  {
   "cell_type": "code",
   "execution_count": null,
   "id": "floppy-teacher",
   "metadata": {},
   "outputs": [],
   "source": [
    "g = folium.GeoJson(\n",
    "    countiesmerge,\n",
    "    style_function=lambda x: {\n",
    "        \"fillColor\": colormap(x[\"properties\"][\"Percent_Vaccinated\"])\n",
    "        if x[\"properties\"][\"Percent_Vaccinated\"] is not None\n",
    "        else \"transparent\",\n",
    "        \"color\": \"black\",\n",
    "        \"fillOpacity\": 0.4,\n",
    "    },\n",
    "    tooltip=tooltip,\n",
    "    popup=popup,\n",
    ").add_to(m)\n",
    "\n",
    "colormap.add_to(m)"
   ]
  },
  {
   "cell_type": "code",
   "execution_count": null,
   "id": "contemporary-startup",
   "metadata": {},
   "outputs": [],
   "source": [
    "m"
   ]
  }
 ],
 "metadata": {
  "kernelspec": {
   "display_name": "Python 3",
   "language": "python",
   "name": "python3"
  },
  "language_info": {
   "codemirror_mode": {
    "name": "ipython",
    "version": 3
   },
   "file_extension": ".py",
   "mimetype": "text/x-python",
   "name": "python",
   "nbconvert_exporter": "python",
   "pygments_lexer": "ipython3",
   "version": "3.9.2"
  }
 },
 "nbformat": 4,
 "nbformat_minor": 5
}
