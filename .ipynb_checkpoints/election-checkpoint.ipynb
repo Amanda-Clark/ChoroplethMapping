{
 "cells": [
  {
   "cell_type": "code",
   "execution_count": null,
   "id": "imposed-notice",
   "metadata": {},
   "outputs": [],
   "source": [
    "import folium\n",
    "import pandas as pd\n",
    "import geojson\n",
    "import geopandas\n",
    "import branca\n",
    "import geojson\n",
    "from urllib.request import urlopen\n",
    "from folium.features import GeoJsonPopup, GeoJsonTooltip\n",
    "\n",
    "with open(\"multnomah_co_precinct_splits_dist_info_2-2016.zip.geojson\") as f:\n",
    "    counties = geojson.load(f)\n",
    "\n",
    "results = pd.read_excel(\"finalresults.xls\")"
   ]
  },
  {
   "cell_type": "code",
   "execution_count": null,
   "id": "responsible-october",
   "metadata": {},
   "outputs": [],
   "source": [
    "counties = geopandas.GeoDataFrame.from_features(counties, crs=\"EPSG:4326\")"
   ]
  },
  {
   "cell_type": "code",
   "execution_count": null,
   "id": "engaged-karaoke",
   "metadata": {},
   "outputs": [],
   "source": [
    "counties[\"FIRST_PREC\"] = counties[\"FIRST_PREC\"].astype(str).astype(int)"
   ]
  },
  {
   "cell_type": "code",
   "execution_count": null,
   "id": "stock-logic",
   "metadata": {},
   "outputs": [],
   "source": [
    "m = folium.Map(location=[45.4962, -122.4772], zoom_start=10)"
   ]
  },
  {
   "cell_type": "code",
   "execution_count": null,
   "id": "wanted-immigration",
   "metadata": {},
   "outputs": [],
   "source": [
    "resultsmerge = counties.merge(results, how=\"right\", left_on =\"FIRST_PREC\", right_on=\"Precinct\")"
   ]
  },
  {
   "cell_type": "code",
   "execution_count": null,
   "id": "alleged-andrews",
   "metadata": {},
   "outputs": [],
   "source": [
    "resultsmerge['FIRST_PREC'] = resultsmerge['FIRST_PREC'].astype(str)"
   ]
  },
  {
   "cell_type": "code",
   "execution_count": null,
   "id": "binding-secretariat",
   "metadata": {},
   "outputs": [],
   "source": [
    "colormap = branca.colormap.LinearColormap(\n",
    "    vmin=resultsmerge[\"BidenPercentage\"].quantile(0.0),\n",
    "    vmax=resultsmerge[\"BidenPercentage\"].quantile(1),\n",
    "    colors=[\"darkred\", \"red\",  \"blue\", \"darkblue\"],\n",
    "    caption=\"Precinct level Biden vote share\",\n",
    ")"
   ]
  },
  {
   "cell_type": "code",
   "execution_count": null,
   "id": "obvious-cradle",
   "metadata": {},
   "outputs": [],
   "source": [
    "popup = GeoJsonPopup(\n",
    "    fields=[\"FIRST_PREC\" , \"FIRST_SPLI\", \"Trump\", \"Biden\",'Jorgensen',\n",
    "            'Hawkins','Hunter','WriteIn', 'Total', 'BidenPercentage'],\n",
    "    aliases=['Precinct Name: ', 'Precinct Subdivision: ', 'Donald Trump/Mike Pence: ', 'Joe Biden/Kamala Harris:',\n",
    "            'Jo Jorgensen / Jeremy (Spike) Cohen:','Howie Hawkins / Angela Walker:',\n",
    "             'Dario Hunter / Dawn Neptune Adams:','Write In Votes:', 'Total Votes:', 'Joe Biden Vote Percentage:'],\n",
    "    localize=True,\n",
    "    labels=True,\n",
    "    style=\"background-color: yellow;\",\n",
    ")"
   ]
  },
  {
   "cell_type": "code",
   "execution_count": null,
   "id": "negative-management",
   "metadata": {},
   "outputs": [],
   "source": [
    "tooltip = GeoJsonTooltip(\n",
    "    fields=[\"FIRST_PREC\" , \"FIRST_SPLI\", \"Trump\", \"Biden\",'Jorgensen',\n",
    "            'Hawkins','Hunter','WriteIn', 'Total', 'BidenPercentage'],\n",
    "    aliases=['Precinct Name: ', 'Precinct Subdivision: ', 'Donald Trump/Mike Pence: ', 'Joe Biden/Kamala Harris:',\n",
    "            'Jo Jorgensen / Jeremy (Spike) Cohen:','Howie Hawkins / Angela Walker:',\n",
    "             'Dario Hunter / Dawn Neptune Adams:','Write In Votes:', 'Total Votes:', 'Joe Biden Vote Percentage:'],\n",
    "    localize=True,\n",
    "    sticky=False,\n",
    "    labels=True,\n",
    "    style=\"\"\"\n",
    "        background-color: #F0EFEF;\n",
    "        border: 2px solid black;\n",
    "        border-radius: 3px;\n",
    "        box-shadow: 3px;\n",
    "    \"\"\",\n",
    "    max_width=800,\n",
    ")"
   ]
  },
  {
   "cell_type": "code",
   "execution_count": null,
   "id": "floppy-teacher",
   "metadata": {},
   "outputs": [],
   "source": [
    "g = folium.GeoJson(\n",
    "    resultsmerge,\n",
    "    style_function=lambda x: {\n",
    "        \"fillColor\": colormap(x[\"properties\"][\"BidenPercentage\"])\n",
    "        if x[\"properties\"][\"BidenPercentage\"] is not None\n",
    "        else \"transparent\",\n",
    "        \"color\": \"black\",\n",
    "        \"fillOpacity\": 0.6,\n",
    "    },\n",
    "    \n",
    "    tooltip=tooltip,\n",
    "    popup=popup,\n",
    ").add_to(m)\n",
    "colormap.add_to(m)\n"
   ]
  },
  {
   "cell_type": "code",
   "execution_count": null,
   "id": "contemporary-startup",
   "metadata": {},
   "outputs": [],
   "source": [
    "m"
   ]
  }
 ],
 "metadata": {
  "kernelspec": {
   "display_name": "Python 3",
   "language": "python",
   "name": "python3"
  },
  "language_info": {
   "codemirror_mode": {
    "name": "ipython",
    "version": 3
   },
   "file_extension": ".py",
   "mimetype": "text/x-python",
   "name": "python",
   "nbconvert_exporter": "python",
   "pygments_lexer": "ipython3",
   "version": "3.9.2"
  }
 },
 "nbformat": 4,
 "nbformat_minor": 5
}
